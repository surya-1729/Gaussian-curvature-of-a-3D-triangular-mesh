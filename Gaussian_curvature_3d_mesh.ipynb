{
 "cells": [
  {
   "cell_type": "code",
   "execution_count": 1,
   "metadata": {},
   "outputs": [],
   "source": [
    "import igl\n",
    "import meshplot as mp\n",
    "import numpy as np\n",
    "# mp.offline() # one can manually switch to offline mode with this command https://skoch9.github.io/meshplot/tutorial/"
   ]
  },
  {
   "cell_type": "code",
   "execution_count": 2,
   "metadata": {},
   "outputs": [
    {
     "data": {
      "application/vnd.jupyter.widget-view+json": {
       "model_id": "70f5566cb05440e28ac7f5d5db746845",
       "version_major": 2,
       "version_minor": 0
      },
      "text/plain": [
       "Renderer(camera=PerspectiveCamera(children=(DirectionalLight(color='white', intensity=0.6, position=(-0.021590…"
      ]
     },
     "metadata": {},
     "output_type": "display_data"
    }
   ],
   "source": [
    "# loading and plotting mesh\n",
    "vert, tri = igl.read_triangle_mesh(\"./igea.ply\")\n",
    "plot_mesh = mp.plot(vert, tri)\n",
    "#print('vertices = ',vert)\n",
    "##print('vertices_shape =', vert.shape)\n",
    "#print('triangles = ', tri)\n",
    "#print('triangles_shape =',tri.shape)"
   ]
  },
  {
   "cell_type": "code",
   "execution_count": 3,
   "metadata": {},
   "outputs": [],
   "source": [
    "# implement away\n",
    "# do not use other functions than provided by basic python or numpy \n",
    "# (especially not the gaussian curvature function provided by igl)\n",
    "## \n",
    "# algorithm:\n",
    "# iterating through each triangle in triangles array, calculating area and theta values corresponding to three vertices \n",
    "# in each triangle and adding the corresponding values to corresponding elements in array created and calculating\n",
    "# gaussian curvature values from this array. \n",
    "##   \n",
    "def gaussian(vertices, triangles):\n",
    "    \n",
    "    # create an array to store area and theta values for each vertex\n",
    "    arr = np.zeros((len(vertices),2))\n",
    "    \n",
    "    # calculate theta and area for each vertex in each triangle  \n",
    "    for tri in triangles:\n",
    "        \n",
    "        # lengths of sides in each triangle using norm method\n",
    "        a = np.linalg.norm(vertices[tri[0]] - vertices[tri[1]])\n",
    "        b = np.linalg.norm(vertices[tri[1]] - vertices[tri[2]])\n",
    "        c = np.linalg.norm(vertices[tri[2]] - vertices[tri[0]])\n",
    "\n",
    "        # theta values in each triangle for each vertex using cosine triangle rule\n",
    "        theta_a = np.arccos((-a*a + b*b + c*c)/ (2*c*b))\n",
    "        theta_b = np.arccos((a*a - b*b + c*c)/ (2*a*c))\n",
    "        theta_c = np.arccos((a*a + b*b - c*c)/ (2*a*b))\n",
    "\n",
    "        # area of triangle using cross product \n",
    "        area = (1/3)*(0.5*a*b*(np.sin(theta_c)))\n",
    "\n",
    "        # add to corresponding values of theta in array arr\n",
    "        arr[tri[0]][0] += theta_b\n",
    "        arr[tri[1]][0] += theta_c\n",
    "        arr[tri[2]][0] += theta_a\n",
    "\n",
    "        # add to corresponding values of area in array arr\n",
    "        arr[tri[0]][1] += area\n",
    "        arr[tri[1]][1] += area\n",
    "        arr[tri[2]][1] += area\n",
    "        \n",
    "    # using broadcasting to calculate gaussian curvature  \n",
    "    g = (2*np.pi - arr[:, 0])/arr[:, 1]\n",
    "    return g\n",
    "        "
   ]
  },
  {
   "cell_type": "code",
   "execution_count": 4,
   "metadata": {},
   "outputs": [],
   "source": [
    "g = gaussian(vert, tri)"
   ]
  },
  {
   "cell_type": "code",
   "execution_count": 5,
   "metadata": {},
   "outputs": [
    {
     "data": {
      "application/vnd.jupyter.widget-view+json": {
       "model_id": "036d8e9806f447deb424dbb62fccc96f",
       "version_major": 2,
       "version_minor": 0
      },
      "text/plain": [
       "Renderer(camera=PerspectiveCamera(children=(DirectionalLight(color='white', intensity=0.6, position=(-0.021590…"
      ]
     },
     "metadata": {},
     "output_type": "display_data"
    },
    {
     "data": {
      "text/plain": [
       "<meshplot.Viewer.Viewer at 0x1aacfc5dd00>"
      ]
     },
     "execution_count": 5,
     "metadata": {},
     "output_type": "execute_result"
    }
   ],
   "source": [
    "# plot curvature function on the surface (cutting off extreme values)\n",
    "colors = mp.utils.get_colors(g, colormap='viridis', normalize=False, vmin=-200, vmax=200)\n",
    "mp.plot(vert, tri, colors)"
   ]
  },
  {
   "cell_type": "code",
   "execution_count": null,
   "metadata": {},
   "outputs": [],
   "source": []
  }
 ],
 "metadata": {
  "kernelspec": {
   "display_name": "Python 3 (ipykernel)",
   "language": "python",
   "name": "python3"
  },
  "language_info": {
   "codemirror_mode": {
    "name": "ipython",
    "version": 3
   },
   "file_extension": ".py",
   "mimetype": "text/x-python",
   "name": "python",
   "nbconvert_exporter": "python",
   "pygments_lexer": "ipython3",
   "version": "3.8.5"
  }
 },
 "nbformat": 4,
 "nbformat_minor": 4
}
